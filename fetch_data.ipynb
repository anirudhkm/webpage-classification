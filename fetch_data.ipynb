{
 "cells": [
  {
   "cell_type": "markdown",
   "metadata": {},
   "source": [
    "# Webpage classification - Fetching data from HTML files"
   ]
  },
  {
   "cell_type": "code",
   "execution_count": 1,
   "metadata": {
    "collapsed": true
   },
   "outputs": [],
   "source": [
    "import numpy as np\n",
    "import pandas as pd\n",
    "import matplotlib.pyplot as plt\n",
    "import seaborn as sns\n",
    "import os\n",
    "import re\n",
    "from bs4 import BeautifulSoup\n",
    "from string import punctuation\n",
    "from nltk.stem import WordNetLemmatizer\n",
    "from nltk.corpus import stopwords\n",
    "% matplotlib inline"
   ]
  },
  {
   "cell_type": "code",
   "execution_count": 2,
   "metadata": {
    "collapsed": true
   },
   "outputs": [],
   "source": [
    "STOPWORDS = stopwords.words('english')"
   ]
  },
  {
   "cell_type": "markdown",
   "metadata": {},
   "source": [
    "## Fetch data"
   ]
  },
  {
   "cell_type": "code",
   "execution_count": 3,
   "metadata": {
    "collapsed": true
   },
   "outputs": [],
   "source": [
    "class fetch_data(object):\n",
    "    \"\"\"\n",
    "    This class helps to fetch the data from\n",
    "    the HTML files to a structured one.\n",
    "    \"\"\"\n",
    "    \n",
    "    def __init__(self, directory):\n",
    "        \"\"\"\n",
    "        The constuctor of the class.\n",
    "        \n",
    "        Arguments:\n",
    "        \n",
    "        1. directory: The directory of the files.\n",
    "        \"\"\"\n",
    "        \n",
    "        self.data_frame = pd.DataFrame(columns = [\"URL\", \"Text\", \"University\", \"Label\"])\n",
    "        # dataframe to load data into\n",
    "        self.dir = directory\n",
    "        # input files directory\n",
    "        self.lemmatizer = WordNetLemmatizer()\n",
    "        # lemmatizer object\n",
    "        \n",
    "    def __text_process(self, text):\n",
    "        \"\"\"\n",
    "        This function helps to perform text processing\n",
    "        by removing stop words, and lemmatizing the words.\n",
    "        \n",
    "        Arguments:\n",
    "        \n",
    "        1. self: The object.\n",
    "        2. text: The input text to be processed.\n",
    "        \n",
    "        Return:\n",
    "        1. text: Processed text.\n",
    "        \"\"\"\n",
    "        \n",
    "        text = text.replace(\"cs\", \"computer science\")\n",
    "        # replace cs with computer science\n",
    "        text_lst = text.split(\" \")\n",
    "        # get list of words\n",
    "        text_lst = [self.lemmatizer.lemmatize(word.decode(\"utf8\")) for word in text_lst if word not in STOPWORDS and len(word) > 1]\n",
    "        # process text\n",
    "        return \" \".join(text_lst)\n",
    "        \n",
    "    def __get_text(self, filename):\n",
    "        \"\"\"\n",
    "        This function helps to get the text\n",
    "        data, and the anchor text for a given\n",
    "        HTML file name.\n",
    "        \n",
    "        Arguments:\n",
    "        \n",
    "        1. self: The object.\n",
    "        2. filename: The filename from which the data\n",
    "        is to be extracted.\n",
    "        \"\"\"\n",
    "        \n",
    "        with open(filename) as obj:\n",
    "            # open file to read data\n",
    "            data = obj.read()\n",
    "            # read data from file\n",
    "        data = re.sub('^[^<]+', \"\", data)\n",
    "        # remove top headers from the file\n",
    "        data_bs = BeautifulSoup(data)\n",
    "        # beautiful soup processed data\n",
    "        text = data_bs.get_text()\n",
    "        # get the text data alone\n",
    "        text = text.encode(\"utf8\").translate(None, punctuation)\n",
    "        # remove all punctuations from the data\n",
    "        text = text.replace(\"\\n\", \" \")\n",
    "        # replace new line with space\n",
    "        text = re.sub(\"\\d\", \"\", text)\n",
    "        # remove all digits from the text\n",
    "        text = re.sub(\"[\\s]{2,}\", \" \", text).lower()\n",
    "        # replace multiple space with single space\n",
    "        text = self.__text_process(text)\n",
    "        # func call to perform further text processing\n",
    "        return text\n",
    "        \n",
    "            \n",
    "    def __get_filename(self):\n",
    "        \"\"\"\n",
    "        This function acts as a generator\n",
    "        to yield filename with complete path\n",
    "        which assists in further process.\n",
    "        \"\"\"\n",
    "        \n",
    "        index = 0\n",
    "        # set index for the dataframe\n",
    "        for path, _, file_lst in os.walk(self.dir):\n",
    "            # iterate over sub-directories to the files\n",
    "            for f in file_lst:\n",
    "                # iterate over each file in the sub-directory\n",
    "                self.data_frame.loc[index, \"URL\"] = f.strip(\"^\")\n",
    "                # add URL to the dataframe\n",
    "                path_lst = path.split(\"\\\\\")\n",
    "                # get path traversed in list\n",
    "                self.data_frame.loc[index, \"University\"] = path_lst[-1]\n",
    "                # add University to the dataframe\n",
    "                self.data_frame.loc[index, \"Label\"] = path_lst[-2]\n",
    "                # add the category to the dataframe\n",
    "                yield index, os.path.join(path, f)\n",
    "                # yield the index, and the file path\n",
    "                index += 1\n",
    "                # update index\n",
    "        \n",
    "    def get_data(self):\n",
    "        \"\"\"\n",
    "        This function traverses the sub-directories\n",
    "        to each filename, and fetches the required data\n",
    "        after pre-processing.\n",
    "        \"\"\"\n",
    "        \n",
    "        file_generator = self.__get_filename()\n",
    "        # generator to get filename\n",
    "        for index, file_path in file_generator:\n",
    "            # iterate over index, and filepath\n",
    "            text = self.__get_text(file_path)\n",
    "            # get text, and anchor contents of the file\n",
    "            self.data_frame.loc[index, \"Text\"] = text.encode(\"utf8\")\n",
    "            # add text data to the dataframe\n",
    "            \n",
    "    "
   ]
  },
  {
   "cell_type": "markdown",
   "metadata": {},
   "source": [
    "### Fetching data "
   ]
  },
  {
   "cell_type": "code",
   "execution_count": 4,
   "metadata": {
    "collapsed": true
   },
   "outputs": [],
   "source": [
    "crawl = fetch_data(directory = \"webkb\")\n",
    "# initialize object to extract data\n",
    "\n",
    "# NOTE: The argument directory is subjective to change"
   ]
  },
  {
   "cell_type": "code",
   "execution_count": 5,
   "metadata": {
    "scrolled": true
   },
   "outputs": [
    {
     "name": "stderr",
     "output_type": "stream",
     "text": [
      "C:\\Users\\c001384\\AppData\\Local\\Continuum\\anaconda2\\lib\\site-packages\\bs4\\__init__.py:181: UserWarning: No parser was explicitly specified, so I'm using the best available HTML parser for this system (\"lxml\"). This usually isn't a problem, but if you run this code on another system, or in a different virtual environment, it may use a different parser and behave differently.\n",
      "\n",
      "The code that caused this warning is on line 174 of the file C:\\Users\\c001384\\AppData\\Local\\Continuum\\anaconda2\\lib\\runpy.py. To get rid of this warning, change code that looks like this:\n",
      "\n",
      " BeautifulSoup(YOUR_MARKUP})\n",
      "\n",
      "to this:\n",
      "\n",
      " BeautifulSoup(YOUR_MARKUP, \"lxml\")\n",
      "\n",
      "  markup_type=markup_type))\n",
      "C:\\Users\\c001384\\AppData\\Local\\Continuum\\anaconda2\\lib\\site-packages\\ipykernel_launcher.py:41: UnicodeWarning: Unicode equal comparison failed to convert both arguments to Unicode - interpreting them as being unequal\n"
     ]
    }
   ],
   "source": [
    "crawl.get_data()\n",
    "# fetch the required data"
   ]
  },
  {
   "cell_type": "code",
   "execution_count": 6,
   "metadata": {
    "collapsed": true
   },
   "outputs": [],
   "source": [
    "crawl.data_frame.to_csv(path_or_buf = \"data.csv\", index = False)\n",
    "# write data to CSV file named \"data.csv\""
   ]
  }
 ],
 "metadata": {
  "kernelspec": {
   "display_name": "Python 2",
   "language": "python",
   "name": "python2"
  },
  "language_info": {
   "codemirror_mode": {
    "name": "ipython",
    "version": 2
   },
   "file_extension": ".py",
   "mimetype": "text/x-python",
   "name": "python",
   "nbconvert_exporter": "python",
   "pygments_lexer": "ipython2",
   "version": "2.7.14"
  }
 },
 "nbformat": 4,
 "nbformat_minor": 2
}
